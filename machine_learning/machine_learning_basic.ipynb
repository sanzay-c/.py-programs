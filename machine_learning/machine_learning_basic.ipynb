{
 "cells": [
  {
   "cell_type": "code",
   "execution_count": 27,
   "id": "0d7723ed-5b2a-445e-8eca-052bce40397b",
   "metadata": {},
   "outputs": [],
   "source": [
    "import pandas as pd\n",
    "import numpy as np\n",
    "import math"
   ]
  },
  {
   "cell_type": "code",
   "execution_count": 28,
   "id": "ba9722be-f197-4e7b-a178-78e8e5c5a25b",
   "metadata": {},
   "outputs": [],
   "source": [
    "data = {\n",
    "    'StudyHours': [2, 3, 4, 5, 6],\n",
    "    'Marks': [40, 50, 65, 70, 85]\n",
    "}"
   ]
  },
  {
   "cell_type": "markdown",
   "id": "ff42fc36",
   "metadata": {},
   "source": []
  },
  {
   "cell_type": "code",
   "execution_count": 29,
   "id": "0ca1637d-1b60-4f29-b6a6-f9436cc7dd02",
   "metadata": {},
   "outputs": [
    {
     "name": "stdout",
     "output_type": "stream",
     "text": [
      "   StudyHours  Marks\n",
      "0           2     40\n",
      "1           3     50\n",
      "2           4     65\n",
      "3           5     70\n",
      "4           6     85\n"
     ]
    }
   ],
   "source": [
    "df = pd.DataFrame(data)\n",
    "print(df)"
   ]
  },
  {
   "cell_type": "code",
   "execution_count": 30,
   "id": "cfe0c81f-34b1-4140-b6cd-4694493ae42d",
   "metadata": {},
   "outputs": [
    {
     "name": "stdout",
     "output_type": "stream",
     "text": [
      "int64\n",
      "<class 'pandas.core.series.Series'>\n"
     ]
    }
   ],
   "source": [
    "print(df['StudyHours'].dtype)\n",
    "print(type(df['StudyHours']))"
   ]
  },
  {
   "cell_type": "code",
   "execution_count": 31,
   "id": "cca58dda-8298-4b62-a63b-a289b99f2134",
   "metadata": {},
   "outputs": [],
   "source": [
    "def mean(values):\n",
    "    if len(values) == 0:\n",
    "        return 0\n",
    "    return sum(values) / len(values)\n",
    "    "
   ]
  },
  {
   "cell_type": "code",
   "execution_count": 32,
   "id": "71350cd4-4f45-4d08-8908-947839c8082f",
   "metadata": {},
   "outputs": [],
   "source": [
    "def variance(values):\n",
    "    m = mean(values)\n",
    "    return sum((x - m) ** 2 for x in values)/len(values)\n"
   ]
  },
  {
   "cell_type": "code",
   "execution_count": 33,
   "id": "38036387-6b9e-4ddb-b143-4f82c04dc965",
   "metadata": {},
   "outputs": [
    {
     "name": "stdout",
     "output_type": "stream",
     "text": [
      "2.0\n"
     ]
    }
   ],
   "source": [
    "print(variance(df['StudyHours']))"
   ]
  },
  {
   "cell_type": "code",
   "execution_count": 34,
   "id": "c6f10868-40c2-4beb-9206-bcb51ee65c8c",
   "metadata": {},
   "outputs": [
    {
     "name": "stdout",
     "output_type": "stream",
     "text": [
      "std dev of study hours 1.4142135623730951\n"
     ]
    }
   ],
   "source": [
    "import math \n",
    "def std_dev(values):\n",
    "    return math.sqrt(variance(values))\n",
    "\n",
    "print(\"std dev of study hours\", std_dev(df['StudyHours']))"
   ]
  },
  {
   "cell_type": "code",
   "execution_count": 35,
   "id": "65ffeda9-4da4-4a07-8488-61c9c9addfc8",
   "metadata": {},
   "outputs": [],
   "source": [
    "f_name = ['Bibash', 'Prabesh', 'Pratyush', 'Sanjay']\n",
    "l_name = ['Karki', 'Gupta', 'Kayastha', 'Chaudhary']"
   ]
  },
  {
   "cell_type": "code",
   "execution_count": 36,
   "id": "292c3f86-5db9-4758-9985-a9ba0a3f5b22",
   "metadata": {},
   "outputs": [
    {
     "name": "stdout",
     "output_type": "stream",
     "text": [
      "['Bibash Karki', 'Prabesh Gupta', 'Pratyush Kayastha', 'Sanjay Chaudhary']\n"
     ]
    }
   ],
   "source": [
    "full_name  = []\n",
    "\n",
    "for i in range(len(f_name)):\n",
    "    full_name.append(f_name[i]+ \" \" +l_name[i])\n",
    "    \n",
    "print (full_name)\n",
    "    "
   ]
  },
  {
   "cell_type": "code",
   "execution_count": 37,
   "id": "34a6d4b0-5542-43a9-892b-aeff4d881bba",
   "metadata": {},
   "outputs": [
    {
     "name": "stdout",
     "output_type": "stream",
     "text": [
      "Bibash Karki\n",
      "Prabesh Gupta\n",
      "Pratyush Kayastha\n",
      "Sanjay Chaudhary\n"
     ]
    }
   ],
   "source": [
    "for x, y in zip(f_name, l_name):\n",
    "    full_name = x + \" \" + y\n",
    "    print(full_name)"
   ]
  },
  {
   "cell_type": "code",
   "execution_count": 38,
   "id": "6076c16d-9b5f-4a2c-9c06-d3076a72c0b1",
   "metadata": {},
   "outputs": [
    {
     "data": {
      "text/plain": [
       "['Bibash Karki', 'Prabesh Gupta', 'Pratyush Kayastha', 'Sanjay Chaudhary']"
      ]
     },
     "execution_count": 38,
     "metadata": {},
     "output_type": "execute_result"
    }
   ],
   "source": [
    "[x + \" \" + y  for x, y in zip(f_name, l_name)]"
   ]
  }
 ],
 "metadata": {
  "kernelspec": {
   "display_name": "Python 3 (ipykernel)",
   "language": "python",
   "name": "python3"
  },
  "language_info": {
   "codemirror_mode": {
    "name": "ipython",
    "version": 3
   },
   "file_extension": ".py",
   "mimetype": "text/x-python",
   "name": "python",
   "nbconvert_exporter": "python",
   "pygments_lexer": "ipython3",
   "version": "3.11.3"
  }
 },
 "nbformat": 4,
 "nbformat_minor": 5
}
