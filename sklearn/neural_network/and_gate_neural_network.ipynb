{
 "cells": [
  {
   "cell_type": "code",
   "execution_count": 2,
   "id": "7d91635d-196d-4819-a26e-9117af824138",
   "metadata": {},
   "outputs": [],
   "source": [
    "import numpy as np"
   ]
  },
  {
   "cell_type": "code",
   "execution_count": 3,
   "id": "ce47282e-83f9-46ce-a395-44f8b74c66cb",
   "metadata": {},
   "outputs": [],
   "source": [
    "# define X and y, here y is the target value\n",
    "X = np.array([[0, 0],[0, 1],[1, 0],[1, 1]])\n",
    "y = np.array([[0], [0], [0], [1]])"
   ]
  },
  {
   "cell_type": "code",
   "execution_count": 4,
   "id": "9f624668-f36e-469c-ab05-00deecef7e73",
   "metadata": {},
   "outputs": [],
   "source": [
    "# define weight, bias and the learning_rate\n",
    "\n",
    "# Weight represent how important each input is to the output.\n",
    "weight = np.random.rand(2)\n",
    "\n",
    "# Bias is like a constant value added to the weighted sum of inputs in a neuron. It helps the model to shift the decision boundary\n",
    "bias = np.random.rand()\n",
    "\n",
    "# learning rate is how fast the model learns, if it is too small the training is slow, if it is too large it becomes unstable\n",
    "learning_rate = 0.5"
   ]
  },
  {
   "cell_type": "code",
   "execution_count": 5,
   "id": "a97fabc5-9e75-4a9d-92a2-d6a84b07e21d",
   "metadata": {},
   "outputs": [],
   "source": [
    "# define the threshold\n",
    "# --The threshold function(activation function) determines the output of the neuron. \n",
    "#   It decides whether the neuron \"fires\" (outputs 1) or not (outputs 0). --\n",
    "\n",
    "def threshold(z):\n",
    "    return 1 if z >= 1 else 0"
   ]
  },
  {
   "cell_type": "code",
   "execution_count": 6,
   "id": "3f8b7ac3-f5f6-4ce2-b92f-4d7df2e386be",
   "metadata": {},
   "outputs": [
    {
     "name": "stdout",
     "output_type": "stream",
     "text": [
      "Input: [0 0], Target: [0], Predicted: 0\n",
      "Updated Weights: [0.95353356 0.46647808], Updated Bias: [0.22662329]\n",
      "\n",
      "Input: [0 1], Target: [0], Predicted: 0\n",
      "Updated Weights: [0.95353356 0.46647808], Updated Bias: [0.22662329]\n",
      "\n",
      "Input: [1 0], Target: [0], Predicted: 1\n",
      "Updated Weights: [0.45353356 0.46647808], Updated Bias: [-0.27337671]\n",
      "\n",
      "Input: [1 1], Target: [1], Predicted: 0\n",
      "Updated Weights: [0.95353356 0.96647808], Updated Bias: [0.22662329]\n",
      "\n",
      "Input: [0 0], Target: [0], Predicted: 0\n",
      "Updated Weights: [0.95353356 0.96647808], Updated Bias: [0.22662329]\n",
      "\n",
      "Input: [0 1], Target: [0], Predicted: 1\n",
      "Updated Weights: [0.95353356 0.46647808], Updated Bias: [-0.27337671]\n",
      "\n",
      "Input: [1 0], Target: [0], Predicted: 0\n",
      "Updated Weights: [0.95353356 0.46647808], Updated Bias: [-0.27337671]\n",
      "\n",
      "Input: [1 1], Target: [1], Predicted: 1\n",
      "Updated Weights: [0.95353356 0.46647808], Updated Bias: [-0.27337671]\n",
      "\n",
      "Input: [0 0], Target: [0], Predicted: 0\n",
      "Updated Weights: [0.95353356 0.46647808], Updated Bias: [-0.27337671]\n",
      "\n",
      "Input: [0 1], Target: [0], Predicted: 0\n",
      "Updated Weights: [0.95353356 0.46647808], Updated Bias: [-0.27337671]\n",
      "\n",
      "Input: [1 0], Target: [0], Predicted: 0\n",
      "Updated Weights: [0.95353356 0.46647808], Updated Bias: [-0.27337671]\n",
      "\n",
      "Input: [1 1], Target: [1], Predicted: 1\n",
      "Updated Weights: [0.95353356 0.46647808], Updated Bias: [-0.27337671]\n",
      "\n",
      "Input: [0 0], Target: [0], Predicted: 0\n",
      "Updated Weights: [0.95353356 0.46647808], Updated Bias: [-0.27337671]\n",
      "\n",
      "Input: [0 1], Target: [0], Predicted: 0\n",
      "Updated Weights: [0.95353356 0.46647808], Updated Bias: [-0.27337671]\n",
      "\n",
      "Input: [1 0], Target: [0], Predicted: 0\n",
      "Updated Weights: [0.95353356 0.46647808], Updated Bias: [-0.27337671]\n",
      "\n",
      "Input: [1 1], Target: [1], Predicted: 1\n",
      "Updated Weights: [0.95353356 0.46647808], Updated Bias: [-0.27337671]\n",
      "\n",
      "Input: [0 0], Target: [0], Predicted: 0\n",
      "Updated Weights: [0.95353356 0.46647808], Updated Bias: [-0.27337671]\n",
      "\n",
      "Input: [0 1], Target: [0], Predicted: 0\n",
      "Updated Weights: [0.95353356 0.46647808], Updated Bias: [-0.27337671]\n",
      "\n",
      "Input: [1 0], Target: [0], Predicted: 0\n",
      "Updated Weights: [0.95353356 0.46647808], Updated Bias: [-0.27337671]\n",
      "\n",
      "Input: [1 1], Target: [1], Predicted: 1\n",
      "Updated Weights: [0.95353356 0.46647808], Updated Bias: [-0.27337671]\n",
      "\n",
      "Input: [0 0], Target: [0], Predicted: 0\n",
      "Updated Weights: [0.95353356 0.46647808], Updated Bias: [-0.27337671]\n",
      "\n",
      "Input: [0 1], Target: [0], Predicted: 0\n",
      "Updated Weights: [0.95353356 0.46647808], Updated Bias: [-0.27337671]\n",
      "\n",
      "Input: [1 0], Target: [0], Predicted: 0\n",
      "Updated Weights: [0.95353356 0.46647808], Updated Bias: [-0.27337671]\n",
      "\n",
      "Input: [1 1], Target: [1], Predicted: 1\n",
      "Updated Weights: [0.95353356 0.46647808], Updated Bias: [-0.27337671]\n",
      "\n",
      "Input: [0 0], Target: [0], Predicted: 0\n",
      "Updated Weights: [0.95353356 0.46647808], Updated Bias: [-0.27337671]\n",
      "\n",
      "Input: [0 1], Target: [0], Predicted: 0\n",
      "Updated Weights: [0.95353356 0.46647808], Updated Bias: [-0.27337671]\n",
      "\n",
      "Input: [1 0], Target: [0], Predicted: 0\n",
      "Updated Weights: [0.95353356 0.46647808], Updated Bias: [-0.27337671]\n",
      "\n",
      "Input: [1 1], Target: [1], Predicted: 1\n",
      "Updated Weights: [0.95353356 0.46647808], Updated Bias: [-0.27337671]\n",
      "\n",
      "Input: [0 0], Target: [0], Predicted: 0\n",
      "Updated Weights: [0.95353356 0.46647808], Updated Bias: [-0.27337671]\n",
      "\n",
      "Input: [0 1], Target: [0], Predicted: 0\n",
      "Updated Weights: [0.95353356 0.46647808], Updated Bias: [-0.27337671]\n",
      "\n",
      "Input: [1 0], Target: [0], Predicted: 0\n",
      "Updated Weights: [0.95353356 0.46647808], Updated Bias: [-0.27337671]\n",
      "\n",
      "Input: [1 1], Target: [1], Predicted: 1\n",
      "Updated Weights: [0.95353356 0.46647808], Updated Bias: [-0.27337671]\n",
      "\n",
      "Input: [0 0], Target: [0], Predicted: 0\n",
      "Updated Weights: [0.95353356 0.46647808], Updated Bias: [-0.27337671]\n",
      "\n",
      "Input: [0 1], Target: [0], Predicted: 0\n",
      "Updated Weights: [0.95353356 0.46647808], Updated Bias: [-0.27337671]\n",
      "\n",
      "Input: [1 0], Target: [0], Predicted: 0\n",
      "Updated Weights: [0.95353356 0.46647808], Updated Bias: [-0.27337671]\n",
      "\n",
      "Input: [1 1], Target: [1], Predicted: 1\n",
      "Updated Weights: [0.95353356 0.46647808], Updated Bias: [-0.27337671]\n",
      "\n",
      "Input: [0 0], Target: [0], Predicted: 0\n",
      "Updated Weights: [0.95353356 0.46647808], Updated Bias: [-0.27337671]\n",
      "\n",
      "Input: [0 1], Target: [0], Predicted: 0\n",
      "Updated Weights: [0.95353356 0.46647808], Updated Bias: [-0.27337671]\n",
      "\n",
      "Input: [1 0], Target: [0], Predicted: 0\n",
      "Updated Weights: [0.95353356 0.46647808], Updated Bias: [-0.27337671]\n",
      "\n",
      "Input: [1 1], Target: [1], Predicted: 1\n",
      "Updated Weights: [0.95353356 0.46647808], Updated Bias: [-0.27337671]\n",
      "\n"
     ]
    }
   ],
   "source": [
    "# The actual formula for updating the weight is: \n",
    "#  ---\" weight = weight + learning_rate * target_value(y) - output * input \"--- \n",
    "# here, \"target_value(y) - output\" is represented by \"error\"\n",
    "\n",
    "# make the training of the neural network using the for loop\n",
    "for epoch in range(10):\n",
    "    for i in range(len(X)):\n",
    "        # 1. calculate the weight with the input, z = value of x * weight + bias\n",
    "        z = np.dot(X[i], weight) + bias\n",
    "\n",
    "        # 2. calculate the output using the threshold\n",
    "        output = threshold(z)\n",
    "\n",
    "        # 3. calculate the error\n",
    "        error = y[i] - output\n",
    "\n",
    "        # 4. update the weight\n",
    "        weight += learning_rate * error * X[i]\n",
    "        bias += learning_rate * error\n",
    "\n",
    "        # Print updated weights and bias for understanding\n",
    "        print(f\"Input: {X[i]}, Target: {y[i]}, Predicted: {output}\")\n",
    "        print(f\"Updated Weights: {weight}, Updated Bias: {bias}\\n\")"
   ]
  },
  {
   "cell_type": "code",
   "execution_count": 8,
   "id": "1e4e0a6a-90f9-4c0f-a2b0-a441b4758d90",
   "metadata": {},
   "outputs": [
    {
     "name": "stdout",
     "output_type": "stream",
     "text": [
      "Final weight and bias\n",
      "Final weight: [0.95353356 0.46647808]\n",
      "Final bias: [-0.27337671]\n"
     ]
    }
   ],
   "source": [
    "# after training test the neural network\n",
    "print(\"Final weight and bias\")\n",
    "print(f\"Final weight: {weight}\")\n",
    "print(f\"Final bias: {bias}\")"
   ]
  },
  {
   "cell_type": "code",
   "execution_count": 10,
   "id": "9678048e-a0ee-48ed-955a-a59ed0944f1e",
   "metadata": {},
   "outputs": [
    {
     "name": "stdout",
     "output_type": "stream",
     "text": [
      "Predections\n",
      "Input: [0 0], Weighted Sum: -0.27, Target Output: [0],  Predicted Output: 0\n",
      "Input: [0 1], Weighted Sum: 0.19, Target Output: [0],  Predicted Output: 0\n",
      "Input: [1 0], Weighted Sum: 0.68, Target Output: [0],  Predicted Output: 0\n",
      "Input: [1 1], Weighted Sum: 1.15, Target Output: [1],  Predicted Output: 1\n"
     ]
    }
   ],
   "source": [
    "print(\"Predections\")\n",
    "for i in range(len(X)):\n",
    "    z = np.dot(X[i], weight) + bias\n",
    "    output = threshold(z)\n",
    "    print(f\"Input: {X[i]}, Weighted Sum: {z.item():.2f}, Target Output: {y[i]},  Predicted Output: {output}\")"
   ]
  }
 ],
 "metadata": {
  "kernelspec": {
   "display_name": "Python 3 (ipykernel)",
   "language": "python",
   "name": "python3"
  },
  "language_info": {
   "codemirror_mode": {
    "name": "ipython",
    "version": 3
   },
   "file_extension": ".py",
   "mimetype": "text/x-python",
   "name": "python",
   "nbconvert_exporter": "python",
   "pygments_lexer": "ipython3",
   "version": "3.11.3"
  }
 },
 "nbformat": 4,
 "nbformat_minor": 5
}
