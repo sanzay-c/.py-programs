{
 "cells": [
  {
   "cell_type": "code",
   "execution_count": 1,
   "id": "1f3477f7-43e8-417a-96d1-a59d3219b9af",
   "metadata": {},
   "outputs": [],
   "source": [
    "import numpy as np"
   ]
  },
  {
   "cell_type": "code",
   "execution_count": 2,
   "id": "afac49a6-1c5d-4c2e-b2be-9e3feab36001",
   "metadata": {},
   "outputs": [],
   "source": [
    "# define X and y, here y is the target value\n",
    "X = np.array([[0, 0], [0, 1], [1, 0], [1, 1]])  # Inputs (x1, x2)\n",
    "y = np.array([[0], [1], [1], [1]])    "
   ]
  },
  {
   "cell_type": "code",
   "execution_count": 3,
   "id": "ed310f19-d52f-4628-971c-7e476e9e7226",
   "metadata": {},
   "outputs": [],
   "source": [
    "# define weight, bias and the learning_rate\n",
    "\n",
    "# Weight represent how important each input is to the output.\n",
    "weight = np.random.rand(2)\n",
    "\n",
    "# Bias is like a constant value added to the weighted sum of inputs in a neuron. It helps the model to shift the decision boundary\n",
    "bias = np.random.rand()\n",
    "\n",
    "# learning rate is how fast the model learns, if it is too small the training is slow, if it is too large it becomes unstable\n",
    "learning_rate = 0.5"
   ]
  },
  {
   "cell_type": "code",
   "execution_count": 4,
   "id": "0e2068e7-1e78-41b3-86e1-852518e1dc9f",
   "metadata": {},
   "outputs": [],
   "source": [
    "# define the threshold\n",
    "# --The threshold function(activation function) determines the output of the neuron. \n",
    "#   It decides whether the neuron \"fires\" (outputs 1) or not (outputs 0). --\n",
    "\n",
    "def threshold(z):\n",
    "    return 1 if z >= 1 else 0"
   ]
  },
  {
   "cell_type": "code",
   "execution_count": 6,
   "id": "2efbad3d-2d83-47ea-8e76-da44e49a9bde",
   "metadata": {},
   "outputs": [
    {
     "name": "stdout",
     "output_type": "stream",
     "text": [
      "Input: [0 0], Target: [0], Predicted: 0\n",
      "Updated Weights: [0.51680468 1.10677015], Updated Bias: [0.74115411]\n",
      "\n",
      "Input: [0 1], Target: [1], Predicted: 1\n",
      "Updated Weights: [0.51680468 1.10677015], Updated Bias: [0.74115411]\n",
      "\n",
      "Input: [1 0], Target: [1], Predicted: 1\n",
      "Updated Weights: [0.51680468 1.10677015], Updated Bias: [0.74115411]\n",
      "\n",
      "Input: [1 1], Target: [1], Predicted: 1\n",
      "Updated Weights: [0.51680468 1.10677015], Updated Bias: [0.74115411]\n",
      "\n",
      "Input: [0 0], Target: [0], Predicted: 0\n",
      "Updated Weights: [0.51680468 1.10677015], Updated Bias: [0.74115411]\n",
      "\n",
      "Input: [0 1], Target: [1], Predicted: 1\n",
      "Updated Weights: [0.51680468 1.10677015], Updated Bias: [0.74115411]\n",
      "\n",
      "Input: [1 0], Target: [1], Predicted: 1\n",
      "Updated Weights: [0.51680468 1.10677015], Updated Bias: [0.74115411]\n",
      "\n",
      "Input: [1 1], Target: [1], Predicted: 1\n",
      "Updated Weights: [0.51680468 1.10677015], Updated Bias: [0.74115411]\n",
      "\n",
      "Input: [0 0], Target: [0], Predicted: 0\n",
      "Updated Weights: [0.51680468 1.10677015], Updated Bias: [0.74115411]\n",
      "\n",
      "Input: [0 1], Target: [1], Predicted: 1\n",
      "Updated Weights: [0.51680468 1.10677015], Updated Bias: [0.74115411]\n",
      "\n",
      "Input: [1 0], Target: [1], Predicted: 1\n",
      "Updated Weights: [0.51680468 1.10677015], Updated Bias: [0.74115411]\n",
      "\n",
      "Input: [1 1], Target: [1], Predicted: 1\n",
      "Updated Weights: [0.51680468 1.10677015], Updated Bias: [0.74115411]\n",
      "\n",
      "Input: [0 0], Target: [0], Predicted: 0\n",
      "Updated Weights: [0.51680468 1.10677015], Updated Bias: [0.74115411]\n",
      "\n",
      "Input: [0 1], Target: [1], Predicted: 1\n",
      "Updated Weights: [0.51680468 1.10677015], Updated Bias: [0.74115411]\n",
      "\n",
      "Input: [1 0], Target: [1], Predicted: 1\n",
      "Updated Weights: [0.51680468 1.10677015], Updated Bias: [0.74115411]\n",
      "\n",
      "Input: [1 1], Target: [1], Predicted: 1\n",
      "Updated Weights: [0.51680468 1.10677015], Updated Bias: [0.74115411]\n",
      "\n",
      "Input: [0 0], Target: [0], Predicted: 0\n",
      "Updated Weights: [0.51680468 1.10677015], Updated Bias: [0.74115411]\n",
      "\n",
      "Input: [0 1], Target: [1], Predicted: 1\n",
      "Updated Weights: [0.51680468 1.10677015], Updated Bias: [0.74115411]\n",
      "\n",
      "Input: [1 0], Target: [1], Predicted: 1\n",
      "Updated Weights: [0.51680468 1.10677015], Updated Bias: [0.74115411]\n",
      "\n",
      "Input: [1 1], Target: [1], Predicted: 1\n",
      "Updated Weights: [0.51680468 1.10677015], Updated Bias: [0.74115411]\n",
      "\n",
      "Input: [0 0], Target: [0], Predicted: 0\n",
      "Updated Weights: [0.51680468 1.10677015], Updated Bias: [0.74115411]\n",
      "\n",
      "Input: [0 1], Target: [1], Predicted: 1\n",
      "Updated Weights: [0.51680468 1.10677015], Updated Bias: [0.74115411]\n",
      "\n",
      "Input: [1 0], Target: [1], Predicted: 1\n",
      "Updated Weights: [0.51680468 1.10677015], Updated Bias: [0.74115411]\n",
      "\n",
      "Input: [1 1], Target: [1], Predicted: 1\n",
      "Updated Weights: [0.51680468 1.10677015], Updated Bias: [0.74115411]\n",
      "\n",
      "Input: [0 0], Target: [0], Predicted: 0\n",
      "Updated Weights: [0.51680468 1.10677015], Updated Bias: [0.74115411]\n",
      "\n",
      "Input: [0 1], Target: [1], Predicted: 1\n",
      "Updated Weights: [0.51680468 1.10677015], Updated Bias: [0.74115411]\n",
      "\n",
      "Input: [1 0], Target: [1], Predicted: 1\n",
      "Updated Weights: [0.51680468 1.10677015], Updated Bias: [0.74115411]\n",
      "\n",
      "Input: [1 1], Target: [1], Predicted: 1\n",
      "Updated Weights: [0.51680468 1.10677015], Updated Bias: [0.74115411]\n",
      "\n",
      "Input: [0 0], Target: [0], Predicted: 0\n",
      "Updated Weights: [0.51680468 1.10677015], Updated Bias: [0.74115411]\n",
      "\n",
      "Input: [0 1], Target: [1], Predicted: 1\n",
      "Updated Weights: [0.51680468 1.10677015], Updated Bias: [0.74115411]\n",
      "\n",
      "Input: [1 0], Target: [1], Predicted: 1\n",
      "Updated Weights: [0.51680468 1.10677015], Updated Bias: [0.74115411]\n",
      "\n",
      "Input: [1 1], Target: [1], Predicted: 1\n",
      "Updated Weights: [0.51680468 1.10677015], Updated Bias: [0.74115411]\n",
      "\n",
      "Input: [0 0], Target: [0], Predicted: 0\n",
      "Updated Weights: [0.51680468 1.10677015], Updated Bias: [0.74115411]\n",
      "\n",
      "Input: [0 1], Target: [1], Predicted: 1\n",
      "Updated Weights: [0.51680468 1.10677015], Updated Bias: [0.74115411]\n",
      "\n",
      "Input: [1 0], Target: [1], Predicted: 1\n",
      "Updated Weights: [0.51680468 1.10677015], Updated Bias: [0.74115411]\n",
      "\n",
      "Input: [1 1], Target: [1], Predicted: 1\n",
      "Updated Weights: [0.51680468 1.10677015], Updated Bias: [0.74115411]\n",
      "\n",
      "Input: [0 0], Target: [0], Predicted: 0\n",
      "Updated Weights: [0.51680468 1.10677015], Updated Bias: [0.74115411]\n",
      "\n",
      "Input: [0 1], Target: [1], Predicted: 1\n",
      "Updated Weights: [0.51680468 1.10677015], Updated Bias: [0.74115411]\n",
      "\n",
      "Input: [1 0], Target: [1], Predicted: 1\n",
      "Updated Weights: [0.51680468 1.10677015], Updated Bias: [0.74115411]\n",
      "\n",
      "Input: [1 1], Target: [1], Predicted: 1\n",
      "Updated Weights: [0.51680468 1.10677015], Updated Bias: [0.74115411]\n",
      "\n"
     ]
    }
   ],
   "source": [
    "# The actual formula for updating the weight is: \n",
    "#  ---\" weight = weight + learning_rate * target_value(y) - output * input \"--- \n",
    "# here, \"target_value(y) - output\" is represented by \"error\"\n",
    "\n",
    "# make the training of the neural network using the for loop\n",
    "for epoch in range(10):\n",
    "    for i in range(len(X)):\n",
    "        # 1. calculate the weight with the input, z = value of x * weight + bias\n",
    "        z = np.dot(X[i], weight) + bias\n",
    "\n",
    "        # 2. calculate the output using the threshold\n",
    "        output = threshold(z)\n",
    "\n",
    "        # 3. calculate the error\n",
    "        error = y[i] - output\n",
    "\n",
    "        # 4. update the weight\n",
    "        weight += learning_rate * error * X[i]\n",
    "        bias += learning_rate * error \n",
    "\n",
    "        # Print updated weights and bias for understanding\n",
    "        print(f\"Input: {X[i]}, Target: {y[i]}, Predicted: {output}\")\n",
    "        print(f\"Updated Weights: {weight}, Updated Bias: {bias}\\n\")"
   ]
  },
  {
   "cell_type": "code",
   "execution_count": 7,
   "id": "f5d15bd1-0641-4b11-9887-8ac447303557",
   "metadata": {},
   "outputs": [
    {
     "name": "stdout",
     "output_type": "stream",
     "text": [
      "See the result of bias and weight after updating\n",
      "weight: [0.51680468 1.10677015]\n",
      "bias: [0.74115411]\n"
     ]
    }
   ],
   "source": [
    "print(\"See the result of bias and weight after updating\")\n",
    "print(f\"weight: {weight}\")\n",
    "print(f\"bias: {bias}\")"
   ]
  },
  {
   "cell_type": "code",
   "execution_count": 8,
   "id": "fed86a63-795d-41d1-a50f-692ea410bd6d",
   "metadata": {},
   "outputs": [
    {
     "name": "stdout",
     "output_type": "stream",
     "text": [
      "Predections\n",
      "Input: [0 0], Weighted Sum: 0.74, Target Output: [0],  Predicted Output: 0\n",
      "Input: [0 1], Weighted Sum: 1.85, Target Output: [1],  Predicted Output: 1\n",
      "Input: [1 0], Weighted Sum: 1.26, Target Output: [1],  Predicted Output: 1\n",
      "Input: [1 1], Weighted Sum: 2.36, Target Output: [1],  Predicted Output: 1\n"
     ]
    }
   ],
   "source": [
    "print(\"Predections\")\n",
    "for i in range(len(X)):\n",
    "    z = np.dot(X[i], weight) + bias\n",
    "    output = threshold(z)\n",
    "    print(f\"Input: {X[i]}, Weighted Sum: {z.item():.2f}, Target Output: {y[i]},  Predicted Output: {output}\")"
   ]
  }
 ],
 "metadata": {
  "kernelspec": {
   "display_name": "Python 3 (ipykernel)",
   "language": "python",
   "name": "python3"
  },
  "language_info": {
   "codemirror_mode": {
    "name": "ipython",
    "version": 3
   },
   "file_extension": ".py",
   "mimetype": "text/x-python",
   "name": "python",
   "nbconvert_exporter": "python",
   "pygments_lexer": "ipython3",
   "version": "3.11.3"
  }
 },
 "nbformat": 4,
 "nbformat_minor": 5
}
